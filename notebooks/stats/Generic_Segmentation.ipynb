{
 "cells": [
  {
   "cell_type": "code",
   "execution_count": null,
   "metadata": {},
   "outputs": [],
   "source": [
    "%pushd ../../"
   ]
  },
  {
   "cell_type": "code",
   "execution_count": null,
   "metadata": {},
   "outputs": [],
   "source": [
    "%env CUDA_VISIBLE_DEVICES=2"
   ]
  },
  {
   "cell_type": "code",
   "execution_count": null,
   "metadata": {},
   "outputs": [],
   "source": [
    "import json\n",
    "\n",
    "import os\n",
    "import sys\n",
    "import tempfile\n",
    "from tqdm.auto import tqdm\n",
    "\n",
    "import torch\n",
    "import torchvision\n",
    "from torchvision import transforms\n",
    "from PIL import Image\n",
    "import numpy as np\n",
    "\n",
    "torch.cuda.set_device(0)"
   ]
  },
  {
   "cell_type": "code",
   "execution_count": null,
   "metadata": {},
   "outputs": [],
   "source": [
    "from netdissect import setting"
   ]
  },
  {
   "cell_type": "code",
   "execution_count": null,
   "metadata": {},
   "outputs": [],
   "source": [
    "segopts = 'netpqc'"
   ]
  },
  {
   "cell_type": "code",
   "execution_count": null,
   "metadata": {},
   "outputs": [],
   "source": [
    "segmodel, seglabels, _ = setting.load_segmenter(segopts)"
   ]
  },
  {
   "cell_type": "code",
   "execution_count": null,
   "metadata": {},
   "outputs": [],
   "source": [
    "segmodel.get_label_and_category_names()"
   ]
  },
  {
   "cell_type": "code",
   "execution_count": null,
   "metadata": {},
   "outputs": [],
   "source": [
    "!ls notebooks/stats/churches"
   ]
  },
  {
   "cell_type": "code",
   "execution_count": null,
   "metadata": {},
   "outputs": [],
   "source": [
    "import glob"
   ]
  },
  {
   "cell_type": "code",
   "execution_count": null,
   "metadata": {},
   "outputs": [],
   "source": [
    "ns = []\n",
    "for f in glob.glob('/data/vision/torralba/ganprojects/placesgan/tracer/utils/samples/domes/*.png'):\n",
    "    ns.append(int(os.path.split(f)[1][6:][:-4]))"
   ]
  },
  {
   "cell_type": "code",
   "execution_count": null,
   "metadata": {},
   "outputs": [],
   "source": [
    "ns = sorted(ns)"
   ]
  },
  {
   "cell_type": "code",
   "execution_count": null,
   "metadata": {},
   "outputs": [],
   "source": [
    "label2idx = {l: i for i, l in enumerate(seglabels)}"
   ]
  },
  {
   "cell_type": "code",
   "execution_count": null,
   "metadata": {},
   "outputs": [],
   "source": [
    "sorted(seglabels)"
   ]
  },
  {
   "cell_type": "code",
   "execution_count": null,
   "metadata": {},
   "outputs": [],
   "source": [
    "label2idx['dome']"
   ]
  },
  {
   "cell_type": "code",
   "execution_count": null,
   "metadata": {},
   "outputs": [],
   "source": [
    "label2idx['building']"
   ]
  },
  {
   "cell_type": "code",
   "execution_count": null,
   "metadata": {},
   "outputs": [],
   "source": [
    "label2idx['tree']"
   ]
  },
  {
   "cell_type": "code",
   "execution_count": null,
   "metadata": {},
   "outputs": [],
   "source": [
    "class Dataset():\n",
    "    def __init__(self, before, before_prefix, after, after_prefix, device='cpu'):\n",
    "        self.before = before\n",
    "        self.before_prefix = before_prefix\n",
    "        self.after = after\n",
    "        self.after_prefix = after_prefix\n",
    "        self.device = device\n",
    "        \n",
    "    def __getitem__(self, key):\n",
    "        before_seg = torch.load(os.path.join(self.before, f'{self.before_prefix}{key}.pth'), map_location=self.device)\n",
    "        after_seg = torch.load(os.path.join(self.after, f'{self.after_prefix}{key}.pth'), map_location=self.device)\n",
    "        mapped = after_seg.permute(1, 2, 0)[(before_seg == 1708).sum(0).nonzero(as_tuple=True)]\n",
    "        assert mapped.shape[1] == 6\n",
    "        return (mapped == 5).sum(), mapped.shape[0]\n",
    "\n",
    "class Sampler(torch.utils.data.Sampler):\n",
    "    def __init__(self, indices):\n",
    "        self.indices = indices\n",
    "        \n",
    "    def __len__(self):\n",
    "        return len(self.indices)\n",
    "    \n",
    "    def __iter__(self):\n",
    "        yield from self.indices"
   ]
  },
  {
   "cell_type": "code",
   "execution_count": null,
   "metadata": {},
   "outputs": [],
   "source": [
    "(before_segs == 5).sum(dim=(0, 2,3))"
   ]
  },
  {
   "cell_type": "code",
   "execution_count": null,
   "metadata": {},
   "outputs": [],
   "source": [
    "def compute(before, before_pref, after, after_pref, tgt=5, tgtc=0, src=1708, srcc=2, ns=ns):\n",
    "    total = 0\n",
    "    count = 0\n",
    "\n",
    "    import time\n",
    "\n",
    "    for subn in tqdm(torch.as_tensor(ns).split(100)):\n",
    "        t0 = time.time()\n",
    "        before_segs = [\n",
    "            torch.load(os.path.join(before, f'{before_pref}{n}.pth'), map_location='cpu') for n in subn]\n",
    "        after_segs = [\n",
    "            torch.load(os.path.join(after, f'{after_pref}{n}.pth'), map_location='cpu') for n in subn]\n",
    "        t1 = time.time()\n",
    "        before_segs = torch.stack(before_segs).cuda()\n",
    "        after_segs = torch.stack(after_segs).cuda()\n",
    "        mapped = after_segs[:, tgtc][before_segs[:, srcc] == src]\n",
    "        t2 = time.time()\n",
    "        total += (mapped == tgt).sum()\n",
    "        count += mapped.shape[0]\n",
    "        print(total, count, t1-t0,t2-t1)\n",
    "\n",
    "    return total.item(), count"
   ]
  },
  {
   "cell_type": "code",
   "execution_count": null,
   "metadata": {},
   "outputs": [],
   "source": [
    "dome2spire_overfit[0] / dome2spire_overfit[1]"
   ]
  },
  {
   "cell_type": "code",
   "execution_count": null,
   "metadata": {},
   "outputs": [],
   "source": [
    "before = 'notebooks/stats/churches/domes'\n",
    "before_pref = 'domes_'\n",
    "after = 'notebooks/stats/churches/dome2spire/ours'\n",
    "after_pref = 'dome2spire_'\n",
    "\n",
    "dome2spire_ours = compute(before, before_pref, after, after_pref)"
   ]
  },
  {
   "cell_type": "code",
   "execution_count": null,
   "metadata": {},
   "outputs": [],
   "source": [
    "before = 'notebooks/stats/churches/domes'\n",
    "before_pref = 'domes_'\n",
    "after = 'notebooks/stats/churches/dome2spire/overfit'\n",
    "after_pref = 'image_'\n",
    "\n",
    "dome2spire_overfit = compute(before, before_pref, after, after_pref)\n"
   ]
  },
  {
   "cell_type": "code",
   "execution_count": null,
   "metadata": {},
   "outputs": [],
   "source": [
    "before = 'notebooks/stats/churches/church'\n",
    "before_pref = 'church_'\n",
    "after = 'notebooks/stats/churches/dome2spire_all/ours'\n",
    "after_pref = 'dome2spire_all_'\n",
    "\n",
    "dome2spire_all_ours = compute(before, before_pref, after, after_pref, ns=list(range(10000)))"
   ]
  },
  {
   "cell_type": "code",
   "execution_count": null,
   "metadata": {},
   "outputs": [],
   "source": [
    "dome2spire_all_ours[0] / dome2spire_all_ours[1]"
   ]
  },
  {
   "cell_type": "code",
   "execution_count": null,
   "metadata": {},
   "outputs": [],
   "source": [
    "dome2spire_all_overfit[0] / dome2spire_all_overfit[1]"
   ]
  },
  {
   "cell_type": "code",
   "execution_count": null,
   "metadata": {},
   "outputs": [],
   "source": [
    "before = 'notebooks/stats/churches/church'\n",
    "before_pref = 'church_'\n",
    "after = 'notebooks/stats/churches/dome2spire_all/overfit'\n",
    "after_pref = 'image_'\n",
    "\n",
    "dome2spire_all_overfit = compute(before, before_pref, after, after_pref, ns=list(range(10000)))"
   ]
  },
  {
   "cell_type": "code",
   "execution_count": null,
   "metadata": {},
   "outputs": [],
   "source": [
    "before = 'notebooks/stats/churches/domes'\n",
    "before_pref = 'domes_'\n",
    "after = 'notebooks/stats/churches/dome2spire/ours'\n",
    "after_pref = 'dome2spire_'\n",
    "\n",
    "all_mapped = []\n",
    "\n",
    "total = 0\n",
    "count = 0\n",
    "\n",
    "import time\n",
    "\n",
    "for subn in tqdm(torch.as_tensor(ns).split(100)):\n",
    "    t0 = time.time()\n",
    "    before_segs = [\n",
    "        torch.load(os.path.join(before, f'{before_pref}{n}.pth'), map_location='cpu') for n in subn]\n",
    "    after_segs = [\n",
    "        torch.load(os.path.join(after, f'{after_pref}{n}.pth'), map_location='cpu') for n in subn]\n",
    "    t1 = time.time()\n",
    "    before_segs = torch.stack(before_segs).cuda()\n",
    "    after_segs = torch.stack(after_segs).cuda()\n",
    "#     mapped = after_segs.permute(0, 2, 3, 1)[before_segs[:, 2] == 1708]\n",
    "    mapped = after_segs[:, 0][before_segs[:, 2] == 1708]\n",
    "#     all_mapped.append()\n",
    "    t2 = time.time()\n",
    "    total += (mapped == 5).sum()\n",
    "    count += mapped.shape[0]\n",
    "    print(total, count, t1-t0,t2-t1)\n"
   ]
  },
  {
   "cell_type": "code",
   "execution_count": null,
   "metadata": {},
   "outputs": [],
   "source": [
    "before = 'notebooks/stats/churches/domes'\n",
    "before_pref = 'domes_'\n",
    "after = 'notebooks/stats/churches/dome2spire/ours'\n",
    "after_pref = 'dome2spire_'\n",
    "\n",
    "dataset = Dataset(before, before_pref, after, after_pref)\n",
    "\n",
    "def wif(*args):\n",
    "    torch.set_num_threads(8)\n",
    "    \n",
    "def cfn(l):\n",
    "    return torch.stack([p[0] for p in l]).sum(), sum(p[1] for p in l)\n",
    "    \n",
    "\n",
    "loader = torch.utils.data.DataLoader(dataset, num_workers=10, batch_size=50, sampler=Sampler(ns), collate_fn=cfn, worker_init_fn=wif)\n",
    "\n",
    "all_mapped = []\n",
    "\n",
    "for mapped in tqdm(loader):\n",
    "    all_mapped.append(mapped)\n"
   ]
  },
  {
   "cell_type": "code",
   "execution_count": null,
   "metadata": {},
   "outputs": [],
   "source": [
    "after_seg.permute(1, 2, 0)[(before_seg == 1708).to(torch.int64).sum(0).nonzero(as_tuple=True)].shape"
   ]
  },
  {
   "cell_type": "code",
   "execution_count": null,
   "metadata": {},
   "outputs": [],
   "source": [
    "!ls notebooks/stats/churches/dome2spire/ours"
   ]
  },
  {
   "cell_type": "code",
   "execution_count": null,
   "metadata": {},
   "outputs": [],
   "source": [
    "class UnsupervisedImageFolder(torchvision.datasets.ImageFolder):\n",
    "    def __init__(self, root, transform=None, max_size=None, get_path=False):\n",
    "        self.temp_dir = tempfile.TemporaryDirectory()\n",
    "        os.symlink(root, os.path.join(self.temp_dir.name, 'dummy'))\n",
    "        root = self.temp_dir.name\n",
    "        super().__init__(root, transform=transform)\n",
    "        self.get_path = get_path\n",
    "        self.perm = None\n",
    "        if max_size is not None:\n",
    "            actual_size = super().__len__()\n",
    "            if actual_size > max_size:\n",
    "                self.perm = torch.randperm(actual_size)[:max_size].clone()\n",
    "                logging.info(f\"{root} has {actual_size} images, downsample to {max_size}\")\n",
    "            else:\n",
    "                logging.info(f\"{root} has {actual_size} images <= max_size={max_size}\")\n",
    "\n",
    "    def _find_classes(self, dir):\n",
    "        return ['./dummy'], {'./dummy': 0}\n",
    "\n",
    "    def __getitem__(self, key):\n",
    "        if self.perm is not None:\n",
    "            key = self.perm[key].item()\n",
    "        sample = super().__getitem__(key)[0]\n",
    "        if self.get_path:\n",
    "            path, _ = self.samples[key]\n",
    "            return sample, path\n",
    "        else:\n",
    "            return sample\n",
    "            \n",
    "\n",
    "    def __len__(self):\n",
    "        if self.perm is not None:\n",
    "            return self.perm.size(0)\n",
    "        else:\n",
    "            return super().__len__()"
   ]
  },
  {
   "cell_type": "code",
   "execution_count": null,
   "metadata": {},
   "outputs": [],
   "source": [
    "len(seglabels)"
   ]
  },
  {
   "cell_type": "code",
   "execution_count": null,
   "metadata": {},
   "outputs": [],
   "source": [
    "transform = transforms.Compose([\n",
    "                              transforms.ToTensor(),\n",
    "                              transforms.Normalize((0.5, 0.5, 0.5), (0.5, 0.5, 0.5)),\n",
    "                           ])\n"
   ]
  },
  {
   "cell_type": "code",
   "execution_count": null,
   "metadata": {},
   "outputs": [],
   "source": [
    "def process(img_path, seg_path, device='cuda', batch_size=128, **kwargs):\n",
    "    os.makedirs(seg_path, exist_ok=True)\n",
    "\n",
    "    dataset = UnsupervisedImageFolder(img_path, transform=transform, get_path=True)\n",
    "    loader = torch.utils.data.DataLoader(dataset, num_workers=24, batch_size=batch_size, pin_memory=True)  \n",
    "    \n",
    "    with torch.no_grad():\n",
    "        for x, paths in tqdm(loader):\n",
    "            segs = segmodel.segment_batch(x.to(device), **kwargs).detach().cpu()\n",
    "            for path, seg in zip(paths, segs):\n",
    "                k = os.path.splitext(os.path.basename(path))[0]\n",
    "                torch.save(seg, os.path.join(seg_path, k + '.pth'))\n",
    "            del segs"
   ]
  },
  {
   "cell_type": "code",
   "execution_count": null,
   "metadata": {},
   "outputs": [],
   "source": [
    "import glob"
   ]
  },
  {
   "cell_type": "code",
   "execution_count": null,
   "metadata": {},
   "outputs": [],
   "source": [
    "torch.backends.cudnn.benchmark=True"
   ]
  },
  {
   "cell_type": "code",
   "execution_count": null,
   "metadata": {},
   "outputs": [],
   "source": [
    "process(\n",
    "    '/data/vision/torralba/ganprojects/placesgan/tracer/utils/samples/domes',\n",
    "    'churches/domes',\n",
    "    batch_size=12)"
   ]
  },
  {
   "cell_type": "code",
   "execution_count": null,
   "metadata": {},
   "outputs": [],
   "source": [
    "process(\n",
    "    '/data/vision/torralba/ganprojects/placesgan/tracer/utils/samples/dome2tree',\n",
    "    'churches/dome2tree/ours',\n",
    "    batch_size=8)"
   ]
  },
  {
   "cell_type": "code",
   "execution_count": null,
   "metadata": {},
   "outputs": [],
   "source": [
    "process(\n",
    "    '/data/vision/torralba/ganprojects/placesgan/tracer/utils/samples/dome2spire',\n",
    "    'churches/dome2spire/ours',\n",
    "    batch_size=8)"
   ]
  },
  {
   "cell_type": "code",
   "execution_count": null,
   "metadata": {},
   "outputs": [],
   "source": []
  }
 ],
 "metadata": {
  "kernelspec": {
   "display_name": "Python 3",
   "language": "python",
   "name": "python3"
  },
  "language_info": {
   "codemirror_mode": {
    "name": "ipython",
    "version": 3
   },
   "file_extension": ".py",
   "mimetype": "text/x-python",
   "name": "python",
   "nbconvert_exporter": "python",
   "pygments_lexer": "ipython3",
   "version": "3.7.4"
  }
 },
 "nbformat": 4,
 "nbformat_minor": 2
}