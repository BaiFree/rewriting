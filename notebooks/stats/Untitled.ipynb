{
 "cells": [
  {
   "cell_type": "code",
   "execution_count": null,
   "metadata": {},
   "outputs": [],
   "source": [
    "import glob"
   ]
  },
  {
   "cell_type": "code",
   "execution_count": null,
   "metadata": {},
   "outputs": [],
   "source": [
    "fs = glob.glob('/data/vision/torralba/ganprojects/placesgan/tracer/utils/samples/domes/*.png')"
   ]
  },
  {
   "cell_type": "code",
   "execution_count": null,
   "metadata": {},
   "outputs": [],
   "source": [
    "import os"
   ]
  },
  {
   "cell_type": "code",
   "execution_count": null,
   "metadata": {},
   "outputs": [],
   "source": [
    "ns = []"
   ]
  },
  {
   "cell_type": "code",
   "execution_count": null,
   "metadata": {},
   "outputs": [],
   "source": [
    "for f in fs:\n",
    "    ns.append(int(os.path.basename(f)[6:-4]))"
   ]
  },
  {
   "cell_type": "code",
   "execution_count": null,
   "metadata": {},
   "outputs": [],
   "source": [
    "ns = sorted(ns)"
   ]
  },
  {
   "cell_type": "code",
   "execution_count": null,
   "metadata": {},
   "outputs": [],
   "source": [
    "len(ns)"
   ]
  },
  {
   "cell_type": "code",
   "execution_count": null,
   "metadata": {},
   "outputs": [],
   "source": [
    "ns"
   ]
  },
  {
   "cell_type": "code",
   "execution_count": null,
   "metadata": {},
   "outputs": [],
   "source": [
    "ns = ns[:10000]"
   ]
  },
  {
   "cell_type": "code",
   "execution_count": null,
   "metadata": {},
   "outputs": [],
   "source": [
    "for f in glob.glob('/data/vision/torralba/ganprojects/placesgan/tracer/utils/samples/domes/*.png'):\n",
    "    if int(os.path.basename(f)[6:-4]) not in ns:\n",
    "        os.rename(f, f + '.bak')"
   ]
  },
  {
   "cell_type": "code",
   "execution_count": null,
   "metadata": {},
   "outputs": [],
   "source": [
    "ns[-1]"
   ]
  },
  {
   "cell_type": "code",
   "execution_count": null,
   "metadata": {},
   "outputs": [],
   "source": [
    "glob.glob('/data/vision/torralba/ganprojects/placesgan/tracer/utils/samples/dome2tree/*.png.bak')"
   ]
  },
  {
   "cell_type": "code",
   "execution_count": null,
   "metadata": {},
   "outputs": [],
   "source": [
    "os.path.split( '/data/vision/torralba/ganprojects/placesgan/tracer/utils/samples/dome2tree/image_331.png')"
   ]
  },
  {
   "cell_type": "code",
   "execution_count": null,
   "metadata": {},
   "outputs": [],
   "source": [
    "for f in glob.glob('/data/vision/torralba/ganprojects/placesgan/tracer/utils/samples/dome2tree/image_*.png'):\n",
    "    k = int(os.path.basename(f)[len('image_'):-4])\n",
    "    assert k in ns\n",
    "    os.rename(f, os.path.join(os.path.split(f)[0], f'dome2tree_{k}.png'))"
   ]
  },
  {
   "cell_type": "code",
   "execution_count": null,
   "metadata": {},
   "outputs": [],
   "source": [
    "for f in glob.glob('/data/vision/torralba/ganprojects/placesgan/tracer/utils/samples/dome2spire/image_*.png'):\n",
    "    k = int(os.path.basename(f)[len('image_'):-4])\n",
    "    assert k in ns\n",
    "    os.rename(f, os.path.join(os.path.split(f)[0], f'dome2spire_{k}.png'))"
   ]
  },
  {
   "cell_type": "code",
   "execution_count": null,
   "metadata": {},
   "outputs": [],
   "source": [
    "compn = set()\n",
    "for f in glob.glob('/data/vision/torralba/ganprojects/placesgan/tracer/utils/samples/dome2tree/*.png'):\n",
    "    k = int(os.path.basename(f)[len('dome2tree_'):-4])\n",
    "    if k not in ns:\n",
    "        print(f)\n",
    "#         os.rename(f, f + '.bak')\n",
    "    else:\n",
    "        compn.add(k)\n",
    "needed = list(set(ns) - compn)"
   ]
  },
  {
   "cell_type": "code",
   "execution_count": null,
   "metadata": {},
   "outputs": [],
   "source": [
    "set(range(len(needed))) & set(ns)"
   ]
  },
  {
   "cell_type": "code",
   "execution_count": null,
   "metadata": {},
   "outputs": [],
   "source": [
    "needed = sorted(needed + list( set(range(len(needed))) & set(ns) ))"
   ]
  },
  {
   "cell_type": "code",
   "execution_count": null,
   "metadata": {},
   "outputs": [],
   "source": [
    "len(needed)"
   ]
  },
  {
   "cell_type": "code",
   "execution_count": null,
   "metadata": {},
   "outputs": [],
   "source": [
    "with open('./dome2tree_needed.json', 'w') as f:\n",
    "    json.dump(needed, f)"
   ]
  },
  {
   "cell_type": "code",
   "execution_count": null,
   "metadata": {},
   "outputs": [],
   "source": [
    "compn = set()\n",
    "for f in glob.glob('/data/vision/torralba/ganprojects/placesgan/tracer/utils/samples/dome2spire/*.png'):\n",
    "    k = int(os.path.basename(f)[len('dome2spire_'):-4])\n",
    "    if k not in ns:\n",
    "        print(f)\n",
    "#         os.rename(f, f + '.bak')\n",
    "    else:\n",
    "        compn.add(k)\n",
    "needed = list(set(ns) - compn)"
   ]
  },
  {
   "cell_type": "code",
   "execution_count": null,
   "metadata": {},
   "outputs": [],
   "source": [
    "print(needed)"
   ]
  },
  {
   "cell_type": "code",
   "execution_count": null,
   "metadata": {},
   "outputs": [],
   "source": [
    "needed = sorted(list(set(ns) - compn))"
   ]
  },
  {
   "cell_type": "code",
   "execution_count": null,
   "metadata": {},
   "outputs": [],
   "source": [
    "set(range(len(needed))) & set(ns)"
   ]
  },
  {
   "cell_type": "code",
   "execution_count": null,
   "metadata": {},
   "outputs": [],
   "source": [
    "needed = sorted(needed + list( set(range(len(needed))) & set(ns) ))"
   ]
  },
  {
   "cell_type": "code",
   "execution_count": null,
   "metadata": {},
   "outputs": [],
   "source": [
    "len(needed)"
   ]
  },
  {
   "cell_type": "code",
   "execution_count": null,
   "metadata": {},
   "outputs": [],
   "source": [
    "with open('./dome2spire_needed.json', 'w') as f:\n",
    "    json.dump(needed, f)"
   ]
  },
  {
   "cell_type": "code",
   "execution_count": null,
   "metadata": {},
   "outputs": [],
   "source": [
    "with open('./domes_indices.json', 'w') as f:\n",
    "    json.dump(ns, f)"
   ]
  },
  {
   "cell_type": "code",
   "execution_count": null,
   "metadata": {},
   "outputs": [],
   "source": []
  }
 ],
 "metadata": {
  "kernelspec": {
   "display_name": "Python 3",
   "language": "python",
   "name": "python3"
  },
  "language_info": {
   "codemirror_mode": {
    "name": "ipython",
    "version": 3
   },
   "file_extension": ".py",
   "mimetype": "text/x-python",
   "name": "python",
   "nbconvert_exporter": "python",
   "pygments_lexer": "ipython3",
   "version": "3.7.4"
  }
 },
 "nbformat": 4,
 "nbformat_minor": 2
}