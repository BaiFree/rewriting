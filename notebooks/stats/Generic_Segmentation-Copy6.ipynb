{
 "cells": [
  {
   "cell_type": "code",
   "execution_count": null,
   "metadata": {},
   "outputs": [],
   "source": [
    "%pushd ../../"
   ]
  },
  {
   "cell_type": "code",
   "execution_count": null,
   "metadata": {},
   "outputs": [],
   "source": [
    "%env CUDA_VISIBLE_DEVICES=3"
   ]
  },
  {
   "cell_type": "code",
   "execution_count": null,
   "metadata": {},
   "outputs": [],
   "source": [
    "import json\n",
    "\n",
    "import os\n",
    "import sys\n",
    "import tempfile\n",
    "from tqdm.auto import tqdm\n",
    "\n",
    "import torch\n",
    "import torchvision\n",
    "from torchvision import transforms\n",
    "from PIL import Image\n",
    "import numpy as np\n",
    "\n",
    "torch.cuda.set_device(0)"
   ]
  },
  {
   "cell_type": "code",
   "execution_count": null,
   "metadata": {},
   "outputs": [],
   "source": [
    "from netdissect import setting"
   ]
  },
  {
   "cell_type": "code",
   "execution_count": null,
   "metadata": {},
   "outputs": [],
   "source": [
    "segopts = 'netpqc'"
   ]
  },
  {
   "cell_type": "code",
   "execution_count": null,
   "metadata": {},
   "outputs": [],
   "source": [
    "segmodel, seglabels, _ = setting.load_segmenter(segopts)"
   ]
  },
  {
   "cell_type": "code",
   "execution_count": null,
   "metadata": {},
   "outputs": [],
   "source": [
    "len(seglabels)"
   ]
  },
  {
   "cell_type": "code",
   "execution_count": null,
   "metadata": {},
   "outputs": [],
   "source": [
    "class UnsupervisedImageFolder(torchvision.datasets.ImageFolder):\n",
    "    def __init__(self, root, transform=None, max_size=None, get_path=False):\n",
    "        self.temp_dir = tempfile.TemporaryDirectory()\n",
    "        os.symlink(root, os.path.join(self.temp_dir.name, 'dummy'))\n",
    "        root = self.temp_dir.name\n",
    "        super().__init__(root, transform=transform)\n",
    "        self.get_path = get_path\n",
    "        self.perm = None\n",
    "        if max_size is not None:\n",
    "            actual_size = super().__len__()\n",
    "            if actual_size > max_size:\n",
    "                self.perm = torch.randperm(actual_size)[:max_size].clone()\n",
    "                logging.info(f\"{root} has {actual_size} images, downsample to {max_size}\")\n",
    "            else:\n",
    "                logging.info(f\"{root} has {actual_size} images <= max_size={max_size}\")\n",
    "\n",
    "    def _find_classes(self, dir):\n",
    "        return ['./dummy'], {'./dummy': 0}\n",
    "\n",
    "    def __getitem__(self, key):\n",
    "        if self.perm is not None:\n",
    "            key = self.perm[key].item()\n",
    "        \n",
    "        if isinstance(key, str):\n",
    "            path = key\n",
    "        else:\n",
    "            path, target = self.samples[index]\n",
    "        sample = self.loader(path)\n",
    "        if self.transform is not None:\n",
    "            sample = self.transform(sample)\n",
    "            \n",
    "        if self.get_path:\n",
    "            return sample, path\n",
    "        else:\n",
    "            return sample\n",
    "            \n",
    "\n",
    "    def __len__(self):\n",
    "        if self.perm is not None:\n",
    "            return self.perm.size(0)\n",
    "        else:\n",
    "            return super().__len__()"
   ]
  },
  {
   "cell_type": "code",
   "execution_count": null,
   "metadata": {},
   "outputs": [],
   "source": [
    "class Sampler(torch.utils.data.Sampler):\n",
    "    def __init__(self, dataset, seg_path):\n",
    "        self.todos = []\n",
    "        for path, _ in dataset.samples:\n",
    "            k = os.path.splitext(os.path.basename(path))[0]\n",
    "            if not os.path.exists(os.path.join(seg_path, k + '.pth')):\n",
    "                self.todos.append(path)\n",
    "                \n",
    "    def __len__(self):\n",
    "        return len(self.todos)\n",
    "    \n",
    "    def __iter__(self):\n",
    "        yield from self.todos"
   ]
  },
  {
   "cell_type": "code",
   "execution_count": null,
   "metadata": {},
   "outputs": [],
   "source": [
    "transform = transforms.Compose([\n",
    "                              transforms.ToTensor(),\n",
    "                              transforms.Normalize((0.5, 0.5, 0.5), (0.5, 0.5, 0.5)),\n",
    "                           ])\n"
   ]
  },
  {
   "cell_type": "code",
   "execution_count": null,
   "metadata": {},
   "outputs": [],
   "source": [
    "def process(img_path, seg_path, device='cuda', batch_size=128, **kwargs):\n",
    "    os.makedirs(seg_path, exist_ok=True)\n",
    "\n",
    "    dataset = UnsupervisedImageFolder(img_path, transform=transform, get_path=True)\n",
    "    sampler = Sampler(dataset, seg_path)\n",
    "    loader = torch.utils.data.DataLoader(dataset, num_workers=24, batch_size=batch_size, pin_memory=True, sampler=sampler)  \n",
    "    \n",
    "    with torch.no_grad():\n",
    "        for x, paths in tqdm(loader):\n",
    "            segs = segmodel.segment_batch(x.to(device), **kwargs).detach().cpu()\n",
    "            for path, seg in zip(paths, segs):\n",
    "                k = os.path.splitext(os.path.basename(path))[0]\n",
    "                torch.save(seg, os.path.join(seg_path, k + '.pth'))\n",
    "            del segs"
   ]
  },
  {
   "cell_type": "code",
   "execution_count": null,
   "metadata": {},
   "outputs": [],
   "source": [
    "seg_path = 'notebooks/stats/churches/dome2tree/naive'"
   ]
  },
  {
   "cell_type": "code",
   "execution_count": null,
   "metadata": {},
   "outputs": [],
   "source": [
    "import glob"
   ]
  },
  {
   "cell_type": "code",
   "execution_count": null,
   "metadata": {},
   "outputs": [],
   "source": [
    "torch.backends.cudnn.benchmark=True"
   ]
  },
  {
   "cell_type": "code",
   "execution_count": null,
   "metadata": {},
   "outputs": [],
   "source": [
    "!ls notebooks/stats/churches/dome2tree"
   ]
  },
  {
   "cell_type": "code",
   "execution_count": null,
   "metadata": {},
   "outputs": [],
   "source": [
    "process(\n",
    "    '/data/vision/torralba/ganprojects/placesgan/tracer/baselines/pyflow/dome2tree_all_256/poisson',\n",
    "    'notebooks/stats/churches/dome2tree_all/poisson',\n",
    "    batch_size=8,\n",
    ")"
   ]
  },
  {
   "cell_type": "code",
   "execution_count": null,
   "metadata": {},
   "outputs": [],
   "source": [
    "process(\n",
    "    '/data/vision/torralba/ganprojects/placesgan/tracer/baselines/pyflow/dome2tree_domeonly_256/naive',\n",
    "    'notebooks/stats/churches/dome2tree/naive',\n",
    "    batch_size=8,\n",
    ")"
   ]
  },
  {
   "cell_type": "code",
   "execution_count": null,
   "metadata": {},
   "outputs": [],
   "source": [
    "process(\n",
    "    '/data/vision/torralba/ganprojects/placesgan/tracer/baselines/pyflow/dome2tree_domeonly_256/poisson',\n",
    "    'notebooks/stats/churches/dome2tree/poisson',\n",
    "    batch_size=8,\n",
    ")"
   ]
  },
  {
   "cell_type": "code",
   "execution_count": null,
   "metadata": {},
   "outputs": [],
   "source": [
    "process(\n",
    "    '/data/vision/torralba/ganprojects/placesgan/tracer/baselines/pyflow/dome2tree_domeonly_256/laplace',\n",
    "    'notebooks/stats/churches/dome2tree/laplace',\n",
    "    batch_size=8,\n",
    ")"
   ]
  },
  {
   "cell_type": "code",
   "execution_count": null,
   "metadata": {},
   "outputs": [],
   "source": [
    "process(\n",
    "    '/data/vision/torralba/distillation/gan_rewriting/results/ablations/stylegan-church-dome2tree-8-1-2001-0.0001-overfit/images',\n",
    "    'churches/dome2tree_all/overfit',\n",
    "    batch_size=8)"
   ]
  },
  {
   "cell_type": "code",
   "execution_count": null,
   "metadata": {},
   "outputs": [],
   "source": [
    "process(\n",
    "    '/data/vision/torralba/ganprojects/placesgan/tracer/utils/samples/domes',\n",
    "    'churches/domes',\n",
    "    batch_size=12)"
   ]
  },
  {
   "cell_type": "code",
   "execution_count": null,
   "metadata": {},
   "outputs": [],
   "source": [
    "process(\n",
    "    '/data/vision/torralba/ganprojects/placesgan/tracer/utils/samples/dome2tree',\n",
    "    'churches/dome2tree/ours',\n",
    "    batch_size=8)"
   ]
  },
  {
   "cell_type": "code",
   "execution_count": null,
   "metadata": {},
   "outputs": [],
   "source": [
    "process(\n",
    "    '/data/vision/torralba/ganprojects/placesgan/tracer/utils/samples/dome2spire',\n",
    "    'churches/dome2spire/ours',\n",
    "    batch_size=8)"
   ]
  },
  {
   "cell_type": "code",
   "execution_count": null,
   "metadata": {},
   "outputs": [],
   "source": []
  }
 ],
 "metadata": {
  "kernelspec": {
   "display_name": "Python 3",
   "language": "python",
   "name": "python3"
  },
  "language_info": {
   "codemirror_mode": {
    "name": "ipython",
    "version": 3
   },
   "file_extension": ".py",
   "mimetype": "text/x-python",
   "name": "python",
   "nbconvert_exporter": "python",
   "pygments_lexer": "ipython3",
   "version": "3.7.4"
  }
 },
 "nbformat": 4,
 "nbformat_minor": 2
}